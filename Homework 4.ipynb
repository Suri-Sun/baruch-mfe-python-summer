{
 "cells": [
  {
   "cell_type": "markdown",
   "metadata": {},
   "source": [
    "# Homework 4"
   ]
  },
  {
   "cell_type": "markdown",
   "metadata": {},
   "source": [
    "## Question 1 Exploratory Data Analysis"
   ]
  },
  {
   "cell_type": "code",
   "execution_count": 1,
   "metadata": {
    "collapsed": true
   },
   "outputs": [],
   "source": [
    "import pandas as pd\n",
    "import numpy as np"
   ]
  },
  {
   "cell_type": "markdown",
   "metadata": {},
   "source": [
    "### Import data zip"
   ]
  },
  {
   "cell_type": "code",
   "execution_count": 2,
   "metadata": {
    "collapsed": true
   },
   "outputs": [],
   "source": [
    "import zipfile\n",
    "import glob\n",
    "\n",
    "zf = zipfile.ZipFile(\"./compustat.zip\") \n",
    "df = pd.read_csv(zf.open(\"compustat.csv\"))"
   ]
  },
  {
   "cell_type": "code",
   "execution_count": 3,
   "metadata": {},
   "outputs": [
    {
     "data": {
      "text/html": [
       "<div>\n",
       "<style>\n",
       "    .dataframe thead tr:only-child th {\n",
       "        text-align: right;\n",
       "    }\n",
       "\n",
       "    .dataframe thead th {\n",
       "        text-align: left;\n",
       "    }\n",
       "\n",
       "    .dataframe tbody tr th {\n",
       "        vertical-align: top;\n",
       "    }\n",
       "</style>\n",
       "<table border=\"1\" class=\"dataframe\">\n",
       "  <thead>\n",
       "    <tr style=\"text-align: right;\">\n",
       "      <th></th>\n",
       "      <th>gvkey</th>\n",
       "      <th>datadate</th>\n",
       "      <th>fyearq</th>\n",
       "      <th>fqtr</th>\n",
       "      <th>indfmt</th>\n",
       "      <th>consol</th>\n",
       "      <th>popsrc</th>\n",
       "      <th>datafmt</th>\n",
       "      <th>cusip</th>\n",
       "      <th>curcdq</th>\n",
       "      <th>datacqtr</th>\n",
       "      <th>datafqtr</th>\n",
       "      <th>cshoq</th>\n",
       "      <th>saleq</th>\n",
       "      <th>costat</th>\n",
       "      <th>prccq</th>\n",
       "      <th>sic</th>\n",
       "    </tr>\n",
       "  </thead>\n",
       "  <tbody>\n",
       "    <tr>\n",
       "      <th>0</th>\n",
       "      <td>1000</td>\n",
       "      <td>19660331</td>\n",
       "      <td>1966</td>\n",
       "      <td>1</td>\n",
       "      <td>INDL</td>\n",
       "      <td>C</td>\n",
       "      <td>D</td>\n",
       "      <td>STD</td>\n",
       "      <td>000032102</td>\n",
       "      <td>USD</td>\n",
       "      <td>1966Q1</td>\n",
       "      <td>1966Q1</td>\n",
       "      <td>0.219</td>\n",
       "      <td>NaN</td>\n",
       "      <td>I</td>\n",
       "      <td>NaN</td>\n",
       "      <td>3089.0</td>\n",
       "    </tr>\n",
       "    <tr>\n",
       "      <th>1</th>\n",
       "      <td>1000</td>\n",
       "      <td>19660630</td>\n",
       "      <td>1966</td>\n",
       "      <td>2</td>\n",
       "      <td>INDL</td>\n",
       "      <td>C</td>\n",
       "      <td>D</td>\n",
       "      <td>STD</td>\n",
       "      <td>000032102</td>\n",
       "      <td>USD</td>\n",
       "      <td>1966Q2</td>\n",
       "      <td>1966Q2</td>\n",
       "      <td>0.219</td>\n",
       "      <td>NaN</td>\n",
       "      <td>I</td>\n",
       "      <td>NaN</td>\n",
       "      <td>3089.0</td>\n",
       "    </tr>\n",
       "    <tr>\n",
       "      <th>2</th>\n",
       "      <td>1000</td>\n",
       "      <td>19660930</td>\n",
       "      <td>1966</td>\n",
       "      <td>3</td>\n",
       "      <td>INDL</td>\n",
       "      <td>C</td>\n",
       "      <td>D</td>\n",
       "      <td>STD</td>\n",
       "      <td>000032102</td>\n",
       "      <td>USD</td>\n",
       "      <td>1966Q3</td>\n",
       "      <td>1966Q3</td>\n",
       "      <td>0.219</td>\n",
       "      <td>NaN</td>\n",
       "      <td>I</td>\n",
       "      <td>NaN</td>\n",
       "      <td>3089.0</td>\n",
       "    </tr>\n",
       "    <tr>\n",
       "      <th>3</th>\n",
       "      <td>1000</td>\n",
       "      <td>19661231</td>\n",
       "      <td>1966</td>\n",
       "      <td>4</td>\n",
       "      <td>INDL</td>\n",
       "      <td>C</td>\n",
       "      <td>D</td>\n",
       "      <td>STD</td>\n",
       "      <td>000032102</td>\n",
       "      <td>USD</td>\n",
       "      <td>1966Q4</td>\n",
       "      <td>1966Q4</td>\n",
       "      <td>0.219</td>\n",
       "      <td>4.032</td>\n",
       "      <td>I</td>\n",
       "      <td>NaN</td>\n",
       "      <td>3089.0</td>\n",
       "    </tr>\n",
       "    <tr>\n",
       "      <th>4</th>\n",
       "      <td>1000</td>\n",
       "      <td>19670331</td>\n",
       "      <td>1967</td>\n",
       "      <td>1</td>\n",
       "      <td>INDL</td>\n",
       "      <td>C</td>\n",
       "      <td>D</td>\n",
       "      <td>STD</td>\n",
       "      <td>000032102</td>\n",
       "      <td>USD</td>\n",
       "      <td>1967Q1</td>\n",
       "      <td>1967Q1</td>\n",
       "      <td>0.277</td>\n",
       "      <td>NaN</td>\n",
       "      <td>I</td>\n",
       "      <td>NaN</td>\n",
       "      <td>3089.0</td>\n",
       "    </tr>\n",
       "  </tbody>\n",
       "</table>\n",
       "</div>"
      ],
      "text/plain": [
       "   gvkey  datadate  fyearq  fqtr indfmt consol popsrc datafmt      cusip  \\\n",
       "0   1000  19660331    1966     1   INDL      C      D     STD  000032102   \n",
       "1   1000  19660630    1966     2   INDL      C      D     STD  000032102   \n",
       "2   1000  19660930    1966     3   INDL      C      D     STD  000032102   \n",
       "3   1000  19661231    1966     4   INDL      C      D     STD  000032102   \n",
       "4   1000  19670331    1967     1   INDL      C      D     STD  000032102   \n",
       "\n",
       "  curcdq datacqtr datafqtr  cshoq  saleq costat  prccq     sic  \n",
       "0    USD   1966Q1   1966Q1  0.219    NaN      I    NaN  3089.0  \n",
       "1    USD   1966Q2   1966Q2  0.219    NaN      I    NaN  3089.0  \n",
       "2    USD   1966Q3   1966Q3  0.219    NaN      I    NaN  3089.0  \n",
       "3    USD   1966Q4   1966Q4  0.219  4.032      I    NaN  3089.0  \n",
       "4    USD   1967Q1   1967Q1  0.277    NaN      I    NaN  3089.0  "
      ]
     },
     "execution_count": 3,
     "metadata": {},
     "output_type": "execute_result"
    }
   ],
   "source": [
    "df.head()"
   ]
  },
  {
   "cell_type": "markdown",
   "metadata": {},
   "source": [
    "### 1. Take the variables that we are interested in"
   ]
  },
  {
   "cell_type": "code",
   "execution_count": 4,
   "metadata": {
    "collapsed": true
   },
   "outputs": [],
   "source": [
    "var_names = ['sic', 'datacqtr', 'cusip', 'cshoq', 'saleq', 'prccq']\n",
    "df = df[var_names]"
   ]
  },
  {
   "cell_type": "code",
   "execution_count": 5,
   "metadata": {},
   "outputs": [
    {
     "data": {
      "text/html": [
       "<div>\n",
       "<style>\n",
       "    .dataframe thead tr:only-child th {\n",
       "        text-align: right;\n",
       "    }\n",
       "\n",
       "    .dataframe thead th {\n",
       "        text-align: left;\n",
       "    }\n",
       "\n",
       "    .dataframe tbody tr th {\n",
       "        vertical-align: top;\n",
       "    }\n",
       "</style>\n",
       "<table border=\"1\" class=\"dataframe\">\n",
       "  <thead>\n",
       "    <tr style=\"text-align: right;\">\n",
       "      <th></th>\n",
       "      <th>sic</th>\n",
       "      <th>datacqtr</th>\n",
       "      <th>cusip</th>\n",
       "      <th>cshoq</th>\n",
       "      <th>saleq</th>\n",
       "      <th>prccq</th>\n",
       "    </tr>\n",
       "  </thead>\n",
       "  <tbody>\n",
       "    <tr>\n",
       "      <th>0</th>\n",
       "      <td>3089.0</td>\n",
       "      <td>1966Q1</td>\n",
       "      <td>000032102</td>\n",
       "      <td>0.219</td>\n",
       "      <td>NaN</td>\n",
       "      <td>NaN</td>\n",
       "    </tr>\n",
       "    <tr>\n",
       "      <th>1</th>\n",
       "      <td>3089.0</td>\n",
       "      <td>1966Q2</td>\n",
       "      <td>000032102</td>\n",
       "      <td>0.219</td>\n",
       "      <td>NaN</td>\n",
       "      <td>NaN</td>\n",
       "    </tr>\n",
       "    <tr>\n",
       "      <th>2</th>\n",
       "      <td>3089.0</td>\n",
       "      <td>1966Q3</td>\n",
       "      <td>000032102</td>\n",
       "      <td>0.219</td>\n",
       "      <td>NaN</td>\n",
       "      <td>NaN</td>\n",
       "    </tr>\n",
       "    <tr>\n",
       "      <th>3</th>\n",
       "      <td>3089.0</td>\n",
       "      <td>1966Q4</td>\n",
       "      <td>000032102</td>\n",
       "      <td>0.219</td>\n",
       "      <td>4.032</td>\n",
       "      <td>NaN</td>\n",
       "    </tr>\n",
       "    <tr>\n",
       "      <th>4</th>\n",
       "      <td>3089.0</td>\n",
       "      <td>1967Q1</td>\n",
       "      <td>000032102</td>\n",
       "      <td>0.277</td>\n",
       "      <td>NaN</td>\n",
       "      <td>NaN</td>\n",
       "    </tr>\n",
       "  </tbody>\n",
       "</table>\n",
       "</div>"
      ],
      "text/plain": [
       "      sic datacqtr      cusip  cshoq  saleq  prccq\n",
       "0  3089.0   1966Q1  000032102  0.219    NaN    NaN\n",
       "1  3089.0   1966Q2  000032102  0.219    NaN    NaN\n",
       "2  3089.0   1966Q3  000032102  0.219    NaN    NaN\n",
       "3  3089.0   1966Q4  000032102  0.219  4.032    NaN\n",
       "4  3089.0   1967Q1  000032102  0.277    NaN    NaN"
      ]
     },
     "execution_count": 5,
     "metadata": {},
     "output_type": "execute_result"
    }
   ],
   "source": [
    "df.head()"
   ]
  },
  {
   "cell_type": "markdown",
   "metadata": {},
   "source": [
    "### 2. Analyze saleq and market cap"
   ]
  },
  {
   "cell_type": "code",
   "execution_count": 6,
   "metadata": {
    "collapsed": true
   },
   "outputs": [],
   "source": [
    "# Calculate market cap from the existing indicators\n",
    "df['mrkcap'] = df['cshoq'] * df['prccq']"
   ]
  },
  {
   "cell_type": "code",
   "execution_count": 7,
   "metadata": {
    "collapsed": true
   },
   "outputs": [],
   "source": [
    "def stats(serie):\n",
    "    \"\"\"\n",
    "    itype: pd.Series\n",
    "    rtype: pd.DataFrame\n",
    "    \"\"\"\n",
    "    mean = serie.mean()\n",
    "    std = serie.std()\n",
    "    nan_count = serie.isnull().sum()\n",
    "    nan_ratio = nan_count / len(serie)\n",
    "    return pd.DataFrame([mean, std, nan_count, nan_ratio], columns=[serie.name], index=['mean', 'standard deviation', 'missing value', 'missing rate'])"
   ]
  },
  {
   "cell_type": "code",
   "execution_count": 8,
   "metadata": {},
   "outputs": [
    {
     "data": {
      "text/html": [
       "<div>\n",
       "<style>\n",
       "    .dataframe thead tr:only-child th {\n",
       "        text-align: right;\n",
       "    }\n",
       "\n",
       "    .dataframe thead th {\n",
       "        text-align: left;\n",
       "    }\n",
       "\n",
       "    .dataframe tbody tr th {\n",
       "        vertical-align: top;\n",
       "    }\n",
       "</style>\n",
       "<table border=\"1\" class=\"dataframe\">\n",
       "  <thead>\n",
       "    <tr style=\"text-align: right;\">\n",
       "      <th></th>\n",
       "      <th>saleq</th>\n",
       "      <th>mrkcap</th>\n",
       "    </tr>\n",
       "  </thead>\n",
       "  <tbody>\n",
       "    <tr>\n",
       "      <th>mean</th>\n",
       "      <td>445.150664</td>\n",
       "      <td>2057.473104</td>\n",
       "    </tr>\n",
       "    <tr>\n",
       "      <th>standard deviation</th>\n",
       "      <td>2679.706576</td>\n",
       "      <td>13202.197457</td>\n",
       "    </tr>\n",
       "    <tr>\n",
       "      <th>missing value</th>\n",
       "      <td>269498.000000</td>\n",
       "      <td>468276.000000</td>\n",
       "    </tr>\n",
       "    <tr>\n",
       "      <th>missing rate</th>\n",
       "      <td>0.148787</td>\n",
       "      <td>0.258530</td>\n",
       "    </tr>\n",
       "  </tbody>\n",
       "</table>\n",
       "</div>"
      ],
      "text/plain": [
       "                            saleq         mrkcap\n",
       "mean                   445.150664    2057.473104\n",
       "standard deviation    2679.706576   13202.197457\n",
       "missing value       269498.000000  468276.000000\n",
       "missing rate             0.148787       0.258530"
      ]
     },
     "execution_count": 8,
     "metadata": {},
     "output_type": "execute_result"
    }
   ],
   "source": [
    "aggregate_stat = pd.concat([stats(df['saleq']), stats(df['mrkcap'])], axis=1)\n",
    "aggregate_stat"
   ]
  },
  {
   "cell_type": "markdown",
   "metadata": {
    "collapsed": true
   },
   "source": [
    "### 3. Deal with outliers"
   ]
  },
  {
   "cell_type": "markdown",
   "metadata": {},
   "source": [
    "- There're several ways to check for outliers, say sorting the data to see edge values; graphing the data to identify outliers(boxplot, histogram, scatterplot, etc); or using the Z-scores to detect. \n",
    "- The following implementation takes 'saleq' as an instance."
   ]
  },
  {
   "cell_type": "markdown",
   "metadata": {},
   "source": [
    "#### (i) sort the data"
   ]
  },
  {
   "cell_type": "code",
   "execution_count": 9,
   "metadata": {},
   "outputs": [
    {
     "name": "stdout",
     "output_type": "stream",
     "text": [
      "28039     -25623.000\n",
      "832590    -14266.834\n",
      "1715206   -12519.497\n",
      "1183158   -11306.432\n",
      "373951     -9832.000\n",
      "Name: saleq, dtype: float64\n",
      "1515668    151597.509\n",
      "386228     163740.000\n",
      "1515670    190805.601\n",
      "386224     195805.000\n",
      "1515672    207307.334\n",
      "Name: saleq, dtype: float64\n"
     ]
    }
   ],
   "source": [
    "sorted_saleq = df['saleq'].sort_values().dropna()\n",
    "print(sorted_saleq.head())\n",
    "print(sorted_saleq.tail())"
   ]
  },
  {
   "cell_type": "markdown",
   "metadata": {},
   "source": [
    "as can be seen, the lower bound of saleq is below 0, which violates financial principles."
   ]
  },
  {
   "cell_type": "markdown",
   "metadata": {},
   "source": [
    "#### (ii) scatter plot"
   ]
  },
  {
   "cell_type": "code",
   "execution_count": 10,
   "metadata": {},
   "outputs": [
    {
     "data": {
      "image/png": "[encoded data removed]",
      "text/plain": [
       "<Figure size 432x288 with 1 Axes>"
      ]
     },
     "metadata": {},
     "output_type": "display_data"
    }
   ],
   "source": [
    "import matplotlib.pyplot as plt\n",
    "fig = plt.figure()\n",
    "ax = plt.subplot() \n",
    "ax.scatter(df.index, df['saleq'], s=10, c='coral')\n",
    "plt.show()"
   ]
  },
  {
   "cell_type": "markdown",
   "metadata": {},
   "source": [
    "Except for the outliers below 0, there're several larger-than-normal values shown."
   ]
  },
  {
   "cell_type": "markdown",
   "metadata": {},
   "source": [
    "#### (iii) Z-score"
   ]
  },
  {
   "cell_type": "code",
   "execution_count": null,
   "metadata": {},
   "outputs": [
    {
     "name": "stdout",
     "output_type": "stream",
     "text": [
      "[9995.0, 11356.0, 11139.0, 10160.0, 9827.0, 10827.0, 10706.0, 9630.0, 9435.0, 10363.0, 10593.0, 9789.0, 9820.0, 11227.0, 10964.0, 10611.0, 10401.0, 11643.0, 11559.0, 10938.0]\n",
      "15098\n"
     ]
    }
   ],
   "source": [
    "def detect_outlier(data):\n",
    "    \"\"\"\n",
    "    itype: pd.Series\n",
    "    rtype: list\n",
    "    \"\"\"\n",
    "    outliers = []\n",
    "    threshold=3\n",
    "    mean = data.mean()\n",
    "    std = data.std()\n",
    "\n",
    "    for y in data:\n",
    "        z_score = (y - mean) / std\n",
    "        if np.abs(z_score) > threshold:\n",
    "            outliers.append(y)\n",
    "    return outliers\n",
    "\n",
    "saleq_outliers = detect_outlier(df['saleq'])\n",
    "print(saleq_outliers[:20])\n",
    "print(len(saleq_outliers))"
   ]
  },
  {
   "cell_type": "markdown",
   "metadata": {},
   "source": [
    "- The reason for below-zero outliers could be numbers mistaken( though it's kind of too much mistaken in this dataset). But for outliers given by z-score method, we could have the wrong distribution assumption for the data (if the data is not normally distributed, then the z-score has no meaning).\n",
    "- Take 'saleq' as an instance, the standard deviation is about 7 times of the mean, which implies a highly dispersed distribution. Plotting the histogram (as shown below), we can see that the data has high concentration close to 0. Then the variance is mostly provided by the upper tail."
   ]
  },
  {
   "cell_type": "markdown",
   "metadata": {},
   "source": [
    "#### Histogram to show empirical distribution"
   ]
  },
  {
   "cell_type": "code",
   "execution_count": null,
   "metadata": {},
   "outputs": [],
   "source": [
    "_ = plt.hist(df['saleq'].dropna().values, bins='auto')\n",
    "plt.axis([-200, 5000, 0, 2000])\n",
    "plt.show()"
   ]
  },
  {
   "cell_type": "markdown",
   "metadata": {},
   "source": [
    "## Question 2: Compute Industry Concentration"
   ]
  },
  {
   "cell_type": "markdown",
   "metadata": {},
   "source": [
    "The definition of HHI:  \n",
    "\n",
    "\\begin{equation}\n",
    "HHI = s_1^2 +s_2^2+s_3^2+...+s_n^2\n",
    "\\end{equation}\n",
    "\n",
    "where\n",
    "$s_n^2$ = the market share percentage of firm $n$ expressed as a whole number, not a decimal."
   ]
  },
  {
   "cell_type": "code",
   "execution_count": null,
   "metadata": {},
   "outputs": [],
   "source": [
    "df.head()"
   ]
  },
  {
   "cell_type": "code",
   "execution_count": null,
   "metadata": {
    "collapsed": true
   },
   "outputs": [],
   "source": [
    "# Take the first two digit of sic as the industry code.\n",
    "df['sic'] = df['sic'].astype('str')\n",
    "df['indcode'] = df['sic'].str[:2]"
   ]
  },
  {
   "cell_type": "code",
   "execution_count": null,
   "metadata": {
    "scrolled": true
   },
   "outputs": [],
   "source": [
    "# Drop nan data\n",
    "df.dropna(inplace=True)\n",
    "# Sum the market cap over per industry and per quarter\n",
    "df['indmrkcap'] = df.groupby(by=['indcode', 'datacqtr'])['mrkcap'].transform('sum')\n",
    "# Compute the market share as a whole number (which is market cap share in this context)\n",
    "df['mrkshr'] = df['mrkcap'] / df['indmrkcap'] * 100\n",
    "# Square market share\n",
    "df['mrkshr_sq'] = df['mrkshr'] ** 2\n",
    "# Compute the HHI index per industry and per quarter\n",
    "HHI = df.groupby(by=['indcode', 'datacqtr'])['mrkshr_sq'].sum()\n",
    "HHI = HHI.to_frame(name='HHI')"
   ]
  },
  {
   "cell_type": "code",
   "execution_count": null,
   "metadata": {
    "scrolled": true
   },
   "outputs": [],
   "source": [
    "# Compute average HHI\n",
    "average_HHI = HHI.groupby(by='indcode').mean()\n",
    "# Drop the HHI above 10,000\n",
    "average_HHI_below_10000 = average_HHI[average_HHI < 10000]\n",
    "top4 = average_HHI_below_10000.sort_values(by='HHI', ascending=False)[:4]\n",
    "top4"
   ]
  },
  {
   "cell_type": "markdown",
   "metadata": {},
   "source": [
    "So the 4 industries that has the greatest HHI are with code 81, 90, 84, 41."
   ]
  },
  {
   "cell_type": "markdown",
   "metadata": {},
   "source": [
    "#### Time series plot"
   ]
  },
  {
   "cell_type": "code",
   "execution_count": null,
   "metadata": {},
   "outputs": [],
   "source": [
    "codes = top4.index.tolist()\n",
    "plt.figure(figsize=(15, 10))\n",
    "\n",
    "for i, code in enumerate(codes):\n",
    "    plt.subplot(2, 2, i+1)\n",
    "    plt.plot(HHI.loc[code])\n",
    "    \n",
    "    plt.title('Time series of HHI in industry %s' %code)\n",
    "    \n",
    "    datetime = HHI.loc[code].index.tolist()\n",
    "    ticks = np.linspace(0, len(datetime)-1, 8, dtype=int)\n",
    "    plt.xticks(np.array(datetime)[ticks])\n",
    "plt.show()"
   ]
  }
 ],
 "metadata": {
  "kernelspec": {
   "display_name": "Python 3",
   "language": "python",
   "name": "python3"
  },
  "language_info": {
   "codemirror_mode": {
    "name": "ipython",
    "version": 3
   },
   "file_extension": ".py",
   "mimetype": "text/x-python",
   "name": "python",
   "nbconvert_exporter": "python",
   "pygments_lexer": "ipython3",
   "version": "3.6.3"
  }
 },
 "nbformat": 4,
 "nbformat_minor": 2
}
