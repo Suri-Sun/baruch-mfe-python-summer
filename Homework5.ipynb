{
 "cells": [
  {
   "cell_type": "markdown",
   "metadata": {},
   "source": [
    "# Homework 5\n",
    "by Tongtong (Suri) Sun"
   ]
  },
  {
   "cell_type": "markdown",
   "metadata": {},
   "source": [
    "## Question 1: Algorithmic question"
   ]
  },
  {
   "cell_type": "code",
   "execution_count": 9,
   "metadata": {},
   "outputs": [],
   "source": [
    "class Solution:\n",
    "\n",
    "    def kth_largest_element(data, k):\n",
    "        \"\"\"\n",
    "        Find the kth largest element in an unsorted array.\n",
    "        itype: List[int]\n",
    "        rtype: int\n",
    "        \"\"\"\n",
    "        import heapq\n",
    "\n",
    "        heapq.heapify(data)\n",
    "        size = len(data)\n",
    "\n",
    "        for i in range(size-k):\n",
    "            heapq.heappop(data)\n",
    "        return heapq.heappop(data)"
   ]
  },
  {
   "cell_type": "code",
   "execution_count": 10,
   "metadata": {},
   "outputs": [
    {
     "data": {
      "text/plain": [
       "5"
      ]
     },
     "execution_count": 10,
     "metadata": {},
     "output_type": "execute_result"
    }
   ],
   "source": [
    "# Testcase 1\n",
    "arr = [3, 2, 1, 5, 6, 4]\n",
    "k = 2\n",
    "Solution.kth_largest_element(arr, k)"
   ]
  },
  {
   "cell_type": "code",
   "execution_count": 12,
   "metadata": {},
   "outputs": [
    {
     "data": {
      "text/plain": [
       "4"
      ]
     },
     "execution_count": 12,
     "metadata": {},
     "output_type": "execute_result"
    }
   ],
   "source": [
    "# Testcase 2\n",
    "arr = [3, 2, 3, 1, 2, 4, 5, 5, 6]\n",
    "k = 4\n",
    "Solution.kth_largest_element(arr, k)"
   ]
  },
  {
   "cell_type": "code",
   "execution_count": 13,
   "metadata": {},
   "outputs": [
    {
     "data": {
      "text/plain": [
       "6"
      ]
     },
     "execution_count": 13,
     "metadata": {},
     "output_type": "execute_result"
    }
   ],
   "source": [
    "# Testcase 3: Lower bound of k\n",
    "arr = [3, 2, 3, 1, 2, 4, 5, 5, 6]\n",
    "k = 1\n",
    "Solution.kth_largest_element(arr, k)"
   ]
  },
  {
   "cell_type": "code",
   "execution_count": 14,
   "metadata": {},
   "outputs": [
    {
     "data": {
      "text/plain": [
       "1"
      ]
     },
     "execution_count": 14,
     "metadata": {},
     "output_type": "execute_result"
    }
   ],
   "source": [
    "# Testcase 4: Upper bound of k\n",
    "arr = [3, 2, 3, 1, 2, 4, 5, 5, 6]\n",
    "k = len(arr)\n",
    "Solution.kth_largest_element(arr, k)"
   ]
  },
  {
   "cell_type": "code",
   "execution_count": 15,
   "metadata": {},
   "outputs": [
    {
     "data": {
      "text/plain": [
       "1"
      ]
     },
     "execution_count": 15,
     "metadata": {},
     "output_type": "execute_result"
    }
   ],
   "source": [
    "# Testcase 5: Indentity elements\n",
    "arr = [1, 1, 1, 1, 1]\n",
    "k = 2\n",
    "Solution.kth_largest_element(arr, k)"
   ]
  },
  {
   "cell_type": "code",
   "execution_count": 17,
   "metadata": {},
   "outputs": [
    {
     "data": {
      "text/plain": [
       "1"
      ]
     },
     "execution_count": 17,
     "metadata": {},
     "output_type": "execute_result"
    }
   ],
   "source": [
    "# Testcase 5: Indentity elements\n",
    "arr = [1, 1, 1, 1, 1]\n",
    "k = 2\n",
    "Solution.kth_largest_element(arr, k)"
   ]
  },
  {
   "cell_type": "code",
   "execution_count": 19,
   "metadata": {},
   "outputs": [
    {
     "data": {
      "text/plain": [
       "998624473344"
      ]
     },
     "execution_count": 19,
     "metadata": {},
     "output_type": "execute_result"
    }
   ],
   "source": [
    "# Testcase 6: Large array\n",
    "arr = [i ** 2 for i in range(1000000)]\n",
    "k = 688\n",
    "Solution.kth_largest_element(arr, k)"
   ]
  },
  {
   "cell_type": "markdown",
   "metadata": {},
   "source": [
    "The time complexity of this algorithm is O(nlog(n))."
   ]
  },
  {
   "cell_type": "markdown",
   "metadata": {},
   "source": [
    "## Question 2: Multithreading pop"
   ]
  },
  {
   "cell_type": "code",
   "execution_count": 146,
   "metadata": {
    "collapsed": true
   },
   "outputs": [],
   "source": [
    "# Create a queue\n",
    "def create_queue(size):\n",
    "    \"\"\"Create a queue with given size\"\"\"\n",
    "    import queue\n",
    "    q = queue.Queue(size)\n",
    "    for i in range(size):\n",
    "        q.put(i ** 2)\n",
    "    return q"
   ]
  },
  {
   "cell_type": "code",
   "execution_count": 147,
   "metadata": {
    "collapsed": true
   },
   "outputs": [],
   "source": [
    "import threading"
   ]
  },
  {
   "cell_type": "code",
   "execution_count": 255,
   "metadata": {
    "scrolled": true
   },
   "outputs": [],
   "source": [
    "# Thread function\n",
    "lock = threading.Lock()  # use lock to avoid race condition\n",
    "\n",
    "\n",
    "def pop_queue(q):\n",
    "    \"\"\"Print all elements in queue\"\"\"\n",
    "    while True:\n",
    "        lock.acquire()\n",
    "        if not q.empty():\n",
    "            # print(q.get())\n",
    "            q.get()\n",
    "            lock.release()\n",
    "        else:\n",
    "            lock.release()\n",
    "            break"
   ]
  },
  {
   "cell_type": "code",
   "execution_count": 256,
   "metadata": {
    "collapsed": true
   },
   "outputs": [],
   "source": [
    "# Multithreading pop\n",
    "def multithreading_pop(q, n):\n",
    "    \"\"\"Use n threads to pop out a queue\"\"\"\n",
    "    threads = []\n",
    "    for i in range(n):\n",
    "        t = threading.Thread(target=pop_queue, args=(q,))\n",
    "        t.start()\n",
    "        threads.append(t)\n",
    "    \n",
    "    for thread in threads:\n",
    "        thread.join()"
   ]
  },
  {
   "cell_type": "code",
   "execution_count": 252,
   "metadata": {
    "scrolled": true
   },
   "outputs": [
    {
     "name": "stdout",
     "output_type": "stream",
     "text": [
      "0\n",
      "1\n",
      "4\n",
      "9\n",
      "16\n",
      "25\n",
      "36\n",
      "49\n",
      "64\n",
      "81\n",
      "100\n",
      "121\n",
      "144\n",
      "169\n",
      "196\n",
      "225\n",
      "256\n",
      "289\n",
      "324\n",
      "361\n",
      "400\n",
      "441\n",
      "484\n",
      "529\n",
      "576\n",
      "625\n",
      "676\n",
      "729\n",
      "784\n",
      "841\n",
      "900\n",
      "961\n",
      "1024\n",
      "1089\n",
      "1156\n",
      "1225\n",
      "1296\n",
      "1369\n",
      "1444\n",
      "1521\n",
      "1600\n",
      "1681\n",
      "1764\n",
      "1849\n",
      "1936\n",
      "2025\n",
      "2116\n",
      "2209\n",
      "2304\n",
      "2401\n",
      "2500\n",
      "2601\n",
      "2704\n",
      "2809\n",
      "2916\n",
      "3025\n",
      "3136\n",
      "3249\n",
      "3364\n",
      "3481\n",
      "3600\n",
      "3721\n",
      "3844\n",
      "3969\n",
      "4096\n",
      "4225\n",
      "4356\n",
      "4489\n",
      "4624\n",
      "4761\n",
      "4900\n",
      "5041\n",
      "5184\n",
      "5329\n",
      "5476\n",
      "5625\n",
      "5776\n",
      "5929\n",
      "6084\n",
      "6241\n",
      "6400\n",
      "6561\n",
      "6724\n",
      "6889\n",
      "7056\n",
      "7225\n",
      "7396\n",
      "7569\n",
      "7744\n",
      "7921\n",
      "8100\n",
      "8281\n",
      "8464\n",
      "8649\n",
      "8836\n",
      "9025\n",
      "9216\n",
      "9409\n",
      "9604\n",
      "9801\n"
     ]
    }
   ],
   "source": [
    "# Test the multithreading\n",
    "q = create_queue(100)\n",
    "multithreading_pop(q, 5)"
   ]
  },
  {
   "cell_type": "markdown",
   "metadata": {},
   "source": [
    "Time the execution with different number of threads:"
   ]
  },
  {
   "cell_type": "code",
   "execution_count": 270,
   "metadata": {},
   "outputs": [
    {
     "name": "stdout",
     "output_type": "stream",
     "text": [
      "CPU times: user 45.4 ms, sys: 1.35 ms, total: 46.7 ms\n",
      "Wall time: 59.5 ms\n"
     ]
    }
   ],
   "source": [
    "q1 = create_queue(10000)\n",
    "%time multithreading_pop(q1, 1)"
   ]
  },
  {
   "cell_type": "code",
   "execution_count": 271,
   "metadata": {},
   "outputs": [
    {
     "name": "stdout",
     "output_type": "stream",
     "text": [
      "CPU times: user 51.4 ms, sys: 3.36 ms, total: 54.7 ms\n",
      "Wall time: 61.9 ms\n"
     ]
    }
   ],
   "source": [
    "q2 = create_queue(10000)\n",
    "%time multithreading_pop(q2, 5)"
   ]
  },
  {
   "cell_type": "code",
   "execution_count": 285,
   "metadata": {
    "scrolled": true
   },
   "outputs": [
    {
     "name": "stdout",
     "output_type": "stream",
     "text": [
      "CPU times: user 39.2 ms, sys: 3.15 ms, total: 42.3 ms\n",
      "Wall time: 42 ms\n"
     ]
    }
   ],
   "source": [
    "q3 = create_queue(10000)\n",
    "%time multithreading_pop(q3, 20)"
   ]
  },
  {
   "cell_type": "markdown",
   "metadata": {},
   "source": [
    "The time efficieny under different number of threads has subtle difference here. Specifically, 20-thread function call has the best performance, then 1-thread one, then 5-thread one. The reason here might be that, the total time consumption contains running the pop_queue function, as well as creating and joining threads. So the performance is determined by both the improvement the multithreading provides, and the time cost from dealing with threads."
   ]
  }
 ],
 "metadata": {
  "kernelspec": {
   "display_name": "Python 3",
   "language": "python",
   "name": "python3"
  },
  "language_info": {
   "codemirror_mode": {
    "name": "ipython",
    "version": 3
   },
   "file_extension": ".py",
   "mimetype": "text/x-python",
   "name": "python",
   "nbconvert_exporter": "python",
   "pygments_lexer": "ipython3",
   "version": "3.6.3"
  }
 },
 "nbformat": 4,
 "nbformat_minor": 2
}
