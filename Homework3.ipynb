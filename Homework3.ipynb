{
 "cells": [
  {
   "cell_type": "markdown",
   "metadata": {},
   "source": [
    "# Homework3"
   ]
  },
  {
   "cell_type": "code",
   "execution_count": 77,
   "metadata": {
    "collapsed": true
   },
   "outputs": [],
   "source": [
    "import numpy as np"
   ]
  },
  {
   "cell_type": "markdown",
   "metadata": {},
   "source": [
    "## Problem a"
   ]
  },
  {
   "cell_type": "code",
   "execution_count": 4,
   "metadata": {
    "collapsed": true
   },
   "outputs": [],
   "source": [
    "def func1(names, db):\n",
    "    idx = []\n",
    "    for i in names:\n",
    "        if i in db:\n",
    "            idx.append(db.index(i))\n",
    "    return idx\n",
    "\n",
    "\n",
    "def func2(names, db):\n",
    "    mask = np.isin(db, names)\n",
    "    return np.arange(len(db))[mask]"
   ]
  },
  {
   "cell_type": "code",
   "execution_count": 74,
   "metadata": {},
   "outputs": [],
   "source": [
    "from itertools import permutations \n",
    "\n",
    "names_1 = ['abcdefgh', 'aefghbcd', 'ab']\n",
    "db_1 = [\"\".join(x) for i, x in enumerate(list(permutations(\"abcdefgh\")))]\n",
    "\n",
    "names_2 = np.array(names_1)\n",
    "db_2 = np.array(db_1)"
   ]
  },
  {
   "cell_type": "code",
   "execution_count": 75,
   "metadata": {},
   "outputs": [
    {
     "name": "stdout",
     "output_type": "stream",
     "text": [
      "690 µs ± 91.7 µs per loop (mean ± std. dev. of 7 runs, 1000 loops each)\n"
     ]
    }
   ],
   "source": [
    "%timeit func1(names_1, db_1)"
   ]
  },
  {
   "cell_type": "code",
   "execution_count": 76,
   "metadata": {},
   "outputs": [
    {
     "name": "stdout",
     "output_type": "stream",
     "text": [
      "1.37 ms ± 150 µs per loop (mean ± std. dev. of 7 runs, 1000 loops each)\n"
     ]
    }
   ],
   "source": [
    "%timeit func2(names_2, db_2)"
   ]
  },
  {
   "cell_type": "markdown",
   "metadata": {},
   "source": [
    "## Problem 2"
   ]
  },
  {
   "cell_type": "code",
   "execution_count": 47,
   "metadata": {
    "collapsed": true
   },
   "outputs": [],
   "source": [
    "from numpy import linalg as la\n",
    "\n",
    "\n",
    "def search_pairs(coordinates, circle_r0):\n",
    "    \"\"\"\n",
    "    Object: find the largest 3 distances between points if either points is inside the circle of radius r0.\n",
    "    \"\"\"\n",
    "    pair_dists = la.norm(coordinates[:, np.newaxis, :] - coordinates, axis=2)\n",
    "    points_in_r0 = la.norm(coordinates, axis=1) < circle_r0\n",
    "    mask_r0 = points_in_r0[:, np.newaxis] ^ points_in_r0\n",
    "    mask_uniq_dists = np.tril(np.ones_like(mask_r0), k=-1)\n",
    "    uniq_dists = pair_dists[mask_r0 & mask_uniq_dists]\n",
    "    max_dists = np.partition(uniq_dists, -3)[-3:]\n",
    "    return np.argwhere(np.isin(np.tril(pair_dists), max_dists))"
   ]
  },
  {
   "cell_type": "code",
   "execution_count": 48,
   "metadata": {},
   "outputs": [],
   "source": [
    "coordinates = np.array(\n",
    "    [[0.968, 0.313],\n",
    "     [0.692, 0.876],\n",
    "     [0.895, 0.085],\n",
    "     [0.039, 0.17 ],\n",
    "     [0.878, 0.098]]\n",
    ")\n",
    "circle_r0 = 0.9"
   ]
  },
  {
   "cell_type": "code",
   "execution_count": 50,
   "metadata": {},
   "outputs": [
    {
     "name": "stdout",
     "output_type": "stream",
     "text": [
      "[[2 1]\n",
      " [3 0]\n",
      " [3 1]]\n"
     ]
    }
   ],
   "source": [
    "print(search_pairs(coordinates, circle_r0))"
   ]
  }
 ],
 "metadata": {
  "kernelspec": {
   "display_name": "Python 3",
   "language": "python",
   "name": "python3"
  },
  "language_info": {
   "codemirror_mode": {
    "name": "ipython",
    "version": 3
   },
   "file_extension": ".py",
   "mimetype": "text/x-python",
   "name": "python",
   "nbconvert_exporter": "python",
   "pygments_lexer": "ipython3",
   "version": "3.6.3"
  }
 },
 "nbformat": 4,
 "nbformat_minor": 2
}
