{
 "cells": [
  {
   "cell_type": "markdown",
   "metadata": {},
   "source": [
    "# Homework 2"
   ]
  },
  {
   "cell_type": "markdown",
   "metadata": {},
   "source": [
    "## Merged sorted stream"
   ]
  },
  {
   "cell_type": "markdown",
   "metadata": {},
   "source": [
    "Does the streams have to be at the same length?"
   ]
  },
  {
   "cell_type": "code",
   "execution_count": 1,
   "metadata": {},
   "outputs": [],
   "source": [
    "def merge_sorted_stream(*streams):\n",
    "    \"\"\"\n",
    "    This function merges any number of streams.\n",
    "    It stores the next values of streams in a dictionary, take out the min, and update the value.\n",
    "    It stops iteration if all generators are exhausted.\n",
    "    \"\"\"\n",
    "    stream_d = {}\n",
    "    stop_count = 0\n",
    "    \n",
    "    for i in range(len(streams)):\n",
    "        try:\n",
    "            stream_d[i] = next(streams[i])\n",
    "        except StopIteration:\n",
    "            stop_count += 1 # if some stream is empty, increase the stop_count\n",
    "            pass\n",
    "        \n",
    "    while True:\n",
    "        try:\n",
    "            min_key = min(stream_d, key=stream_d.get)\n",
    "            yield stream_d[min_key]\n",
    "            stream_d[min_key] = next(streams[min_key])\n",
    "        except StopIteration:\n",
    "            stop_count += 1\n",
    "            del stream_d[min_key]\n",
    "        if stop_count == len(streams):\n",
    "            break"
   ]
  },
  {
   "cell_type": "code",
   "execution_count": 2,
   "metadata": {
    "scrolled": true
   },
   "outputs": [
    {
     "name": "stdout",
     "output_type": "stream",
     "text": [
      "1\n",
      "2\n",
      "3\n",
      "5\n",
      "6\n",
      "7\n",
      "9\n",
      "10\n",
      "13\n",
      "14\n",
      "17\n",
      "18\n",
      "21\n",
      "22\n",
      "25\n",
      "26\n",
      "29\n",
      "30\n",
      "33\n",
      "34\n",
      "37\n",
      "38\n",
      "41\n",
      "42\n",
      "45\n",
      "46\n",
      "49\n",
      "50\n",
      "53\n",
      "54\n",
      "57\n",
      "58\n",
      "61\n",
      "62\n",
      "65\n",
      "66\n",
      "69\n",
      "70\n",
      "73\n",
      "74\n",
      "77\n",
      "78\n",
      "81\n",
      "82\n",
      "85\n",
      "86\n",
      "89\n",
      "90\n",
      "93\n",
      "94\n",
      "97\n",
      "98\n",
      "101\n",
      "102\n",
      "105\n",
      "106\n",
      "109\n",
      "110\n",
      "113\n",
      "114\n",
      "117\n",
      "118\n",
      "121\n",
      "122\n",
      "125\n",
      "126\n",
      "129\n",
      "130\n",
      "133\n",
      "134\n",
      "137\n",
      "138\n",
      "141\n",
      "142\n",
      "145\n",
      "146\n",
      "149\n",
      "150\n",
      "153\n",
      "154\n",
      "157\n",
      "158\n",
      "161\n",
      "162\n",
      "165\n",
      "166\n",
      "169\n",
      "170\n",
      "173\n",
      "174\n",
      "177\n",
      "178\n",
      "181\n",
      "182\n",
      "185\n",
      "186\n",
      "189\n",
      "190\n",
      "193\n",
      "194\n",
      "197\n",
      "198\n"
     ]
    }
   ],
   "source": [
    "stream1 = iter(range(0))\n",
    "stream2 = iter(range(1, 200, 4))\n",
    "stream3 = iter(range(2, 200 ,4))\n",
    "stream4 = iter(range(3, 10, 4))\n",
    "\n",
    "for x in merge_sorted_stream(stream1, stream2, stream3, stream4):\n",
    "    print(x)"
   ]
  },
  {
   "cell_type": "markdown",
   "metadata": {},
   "source": [
    "## Tree traversal"
   ]
  },
  {
   "cell_type": "code",
   "execution_count": 3,
   "metadata": {},
   "outputs": [],
   "source": [
    "class TreeNode:\n",
    "    \n",
    "    def __init__(self, info):\n",
    "        self.info = info\n",
    "        self.left = None\n",
    "        self.right = None\n",
    "\n",
    "    def __repr__(self):\n",
    "        return f'{self.info}'\n",
    "    \n",
    "    def __str__(self):\n",
    "        return f\"{self.info}\"\n",
    "        \n",
    "    def in_order(self):\n",
    "        if self.left: yield from self.left.in_order()\n",
    "        yield str(self.info)\n",
    "        if self.right: yield from self.right.in_order()\n",
    "        \n",
    "    def pre_order(self):\n",
    "        yield str(self.info)\n",
    "        if self.left: yield from self.left.pre_order()\n",
    "        if self.right: yield from self.right.pre_order()\n",
    "    \n",
    "    def post_order(self):\n",
    "        if self.left: yield from self.left.post_order()\n",
    "        if self.right: yield from self.right.post_order()\n",
    "        yield str(self.info)\n",
    "        "
   ]
  },
  {
   "cell_type": "code",
   "execution_count": 4,
   "metadata": {},
   "outputs": [],
   "source": [
    "root = TreeNode(1)\n",
    "root.left = TreeNode(2)\n",
    "root.right = TreeNode(3)\n",
    "root.left.left = TreeNode(4)\n",
    "root.left.right = TreeNode(5)"
   ]
  },
  {
   "cell_type": "code",
   "execution_count": 5,
   "metadata": {},
   "outputs": [
    {
     "name": "stdout",
     "output_type": "stream",
     "text": [
      "4 -> 2 -> 5 -> 1 -> 3\n",
      "1 -> 2 -> 4 -> 5 -> 3\n",
      "4 -> 5 -> 2 -> 3 -> 1\n"
     ]
    }
   ],
   "source": [
    "print(' -> '.join(item for item in root.in_order()))\n",
    "print(' -> '.join(item for item in root.pre_order()))\n",
    "print(' -> '.join(item for item in root.post_order()))"
   ]
  },
  {
   "cell_type": "markdown",
   "metadata": {},
   "source": [
    "## Implement a timer"
   ]
  },
  {
   "cell_type": "code",
   "execution_count": 6,
   "metadata": {},
   "outputs": [],
   "source": [
    "from contextlib import ContextDecorator\n",
    "\n",
    "class timer(ContextDecorator):\n",
    "    \n",
    "    import time\n",
    "    \n",
    "    def __init__(self):\n",
    "        self.start_time = None\n",
    "\n",
    "    def __enter__(self):\n",
    "        self.start_time = time.time()\n",
    "        return self\n",
    "    \n",
    "    def __exit__(self, *args):\n",
    "        print(f\"--- {time.time() - self.start_time} seconds ---\")\n",
    "        return False"
   ]
  },
  {
   "cell_type": "code",
   "execution_count": 7,
   "metadata": {},
   "outputs": [
    {
     "name": "stdout",
     "output_type": "stream",
     "text": [
      "--- 3.0002400875091553 seconds ---\n",
      "--- 3.000408411026001 seconds ---\n"
     ]
    }
   ],
   "source": [
    "import time\n",
    "\n",
    "with timer() as timer:\n",
    "    time.sleep(3)\n",
    "    \n",
    "@timer\n",
    "def sleep(secs):\n",
    "    time.sleep(secs)\n",
    "    \n",
    "sleep(3)"
   ]
  }
 ],
 "metadata": {
  "kernelspec": {
   "display_name": "Python 3",
   "language": "python",
   "name": "python3"
  },
  "language_info": {
   "codemirror_mode": {
    "name": "ipython",
    "version": 3
   },
   "file_extension": ".py",
   "mimetype": "text/x-python",
   "name": "python",
   "nbconvert_exporter": "python",
   "pygments_lexer": "ipython3",
   "version": "3.7.6"
  }
 },
 "nbformat": 4,
 "nbformat_minor": 4
}
